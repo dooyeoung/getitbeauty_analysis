{
 "cells": [
  {
   "cell_type": "code",
   "execution_count": 25,
   "metadata": {},
   "outputs": [],
   "source": [
    "\n",
    "def binary_search(lst, cond):\n",
    "    '''\n",
    "    (Optional) 이 함수를 반드시 구현할 필요는 없습니다. 즉, 이 함수는 채점에 포함되지 않습니다. \n",
    "\t이진탐색을 활용하여 lst 내에서 cond 조건을 만족하는 최소의 원소를 반환하는 함수를 작성하세요.\n",
    "\tlst 는 오름차순으로 정렬되어있다고 가정해도 좋습니다. \n",
    "    \n",
    "    ex) binary_search([1,2,3,4,5], lambda x: x>1) returns 2\n",
    "    '''\n",
    "    \n",
    "    '''\n",
    "    target : 찾을 값\n",
    "    start : 시작 인덱스\n",
    "    end : 끝 인덱스\n",
    "    data : 데이터\n",
    "    '''\n",
    " \n",
    "    # 시작, 끝 인덱스 설정\n",
    "    start = 0\n",
    "    end = len(lst) - 1\n",
    "\n",
    "    # 시작이 끝보다 크거나 같을때까지 반복\n",
    "    \n",
    "    rmin = end\n",
    "    print(rmin)\n",
    "    while start <= end:\n",
    "        # 중간 인덱스 구하기\n",
    "        mid = (start + end) // 2\n",
    "    \n",
    "        print(mid)\n",
    "        # 조건에 맞다면\n",
    "        if cond(lst[mid]):\n",
    "            # 최저값인지 확인\n",
    "            if rmin > lst[mid]:\n",
    "                rmin = lst[mid]\n",
    "\n",
    "        # 최저값보다 큰 인덱스(값)인지 확인하여 인덱스 조정\n",
    "        if lst[mid] < rmin:\n",
    "            start = mid + 1\n",
    "        else: \n",
    "            end = mid -1 \n",
    "\n",
    "       \n",
    "   \n",
    "\n",
    "    return rmin\n",
    "    \n",
    "def find_min_square_root(n):\n",
    "    '''\n",
    "\tq^2 >= n 을 만족하는 최소의 q를 반환하는 함수를 작성하세요.\n",
    "\t경우에 따라 위에 제시되어 있는 binary_search 함수를 작성하여 사용하여도 좋습니다.\n",
    "    ''' \n",
    "    \n",
    "    sqrt = n**0.5\n",
    "    mod =  sqrt % 1\n",
    "    if mod > 0:\n",
    "        res = sqrt - mod + 1\n",
    "    else :\n",
    "        res = sqrt\n",
    "    return res \n",
    "    \n",
    "\n"
   ]
  },
  {
   "cell_type": "code",
   "execution_count": 26,
   "metadata": {},
   "outputs": [
    {
     "name": "stdout",
     "output_type": "stream",
     "text": [
      "11297\n",
      "5648\n",
      "2823\n",
      "1411\n",
      "705\n",
      "352\n",
      "175\n",
      "87\n",
      "131\n",
      "109\n",
      "98\n",
      "103\n",
      "106\n",
      "104\n",
      "105\n"
     ]
    },
    {
     "data": {
      "text/plain": [
       "107"
      ]
     },
     "execution_count": 26,
     "metadata": {},
     "output_type": "execute_result"
    }
   ],
   "source": [
    "n = 11298\n",
    "lst = list(range(1, n+1))\n",
    "binary_search( lst, lambda x: x**2 >= n)"
   ]
  },
  {
   "cell_type": "code",
   "execution_count": null,
   "metadata": {},
   "outputs": [],
   "source": []
  },
  {
   "cell_type": "code",
   "execution_count": 24,
   "metadata": {},
   "outputs": [
    {
     "name": "stdout",
     "output_type": "stream",
     "text": [
      "107.0\n"
     ]
    }
   ],
   "source": [
    "print(find_min_square_root(n))"
   ]
  },
  {
   "cell_type": "code",
   "execution_count": null,
   "metadata": {},
   "outputs": [],
   "source": []
  },
  {
   "cell_type": "code",
   "execution_count": 27,
   "metadata": {},
   "outputs": [
    {
     "data": {
      "text/plain": [
       "1024"
      ]
     },
     "execution_count": 27,
     "metadata": {},
     "output_type": "execute_result"
    }
   ],
   "source": [
    "32 * 32"
   ]
  },
  {
   "cell_type": "code",
   "execution_count": 38,
   "metadata": {},
   "outputs": [],
   "source": [
    "def binary_search(target, data):\n",
    "    \n",
    "    # 시작, 끝 인덱스 설정\n",
    "    start = 0\n",
    "    end = len(data) - 1\n",
    "\n",
    "    # 시작이 끝보다 크거나 같을때까지 반복\n",
    "    while start <= end:\n",
    "        # 중간 인덱스 구하기\n",
    "        mid = (start + end) // 2\n",
    "\n",
    "        if data[mid] == target: # 찾았다면 함수를 끝내버린다.\n",
    "            return mid \n",
    "        elif data[mid] < target: # 타겠값보다 큰경우, 인덱스 조정\n",
    "            start = mid + 1\n",
    "        else: # 타겟값보다 작은경우 , 인덱스 조정\n",
    "            end = mid -1 \n",
    "    return None"
   ]
  },
  {
   "cell_type": "code",
   "execution_count": 39,
   "metadata": {},
   "outputs": [
    {
     "name": "stdout",
     "output_type": "stream",
     "text": [
      "9\n"
     ]
    }
   ],
   "source": [
    "li = [i**2 for i in range(11)]\n",
    "target = 9\n",
    "idx = binary_search(target, li)\n",
    "\n",
    "if idx:\n",
    "    print(li[idx])\n",
    "else:\n",
    "    print(\"찾으시는 타겟 {}가 없습니다\".format(target))"
   ]
  },
  {
   "cell_type": "code",
   "execution_count": null,
   "metadata": {},
   "outputs": [],
   "source": []
  },
  {
   "cell_type": "code",
   "execution_count": 25,
   "metadata": {},
   "outputs": [],
   "source": [
    "def binary_search_recursion(target, start, end, data):\n",
    "    '''\n",
    "    target : 찾을 값\n",
    "    start : 시작 인덱스\n",
    "    end : 끝 인덱스\n",
    "    data : 데이터\n",
    "    '''\n",
    "    \n",
    "    # 인덱스 오류 검사\n",
    "    if start > end:\n",
    "        return None\n",
    "\n",
    "    # 다음 인덱스 찾기 (중간 인덱스)\n",
    "    mid = (start + end) // 2\n",
    "\n",
    "    # 중간인덱스의 값이 타겟값인경우 찾음\n",
    "    if data[mid] == target:\n",
    "        return mid\n",
    "    # 타겠값보다 큰경우, 인덱스 조정하여 한번 더 수행\n",
    "    elif data[mid] > target:\n",
    "        end = mid - 1\n",
    "    # 타겟값보다 작은경우 , 인덱스 조정하여 한번 더 수행\n",
    "    else:\n",
    "        start = mid + 1        \n",
    "\n",
    "    return binary_search_recursion(target, start, end, data)"
   ]
  },
  {
   "cell_type": "code",
   "execution_count": 26,
   "metadata": {},
   "outputs": [
    {
     "name": "stdout",
     "output_type": "stream",
     "text": [
      "5\n",
      "2\n",
      "[0, 3, 6, 9, 12, 15, 18, 21, 24, 27, 30]\n",
      "2\n"
     ]
    }
   ],
   "source": [
    "li = [i*3 for i in range(11)]\n",
    "target = 6\n",
    "idx = binary_search_recursion(target, 0, 10, li)\n",
    "\n",
    "print(li)\n",
    "print(idx)"
   ]
  },
  {
   "cell_type": "code",
   "execution_count": null,
   "metadata": {},
   "outputs": [],
   "source": []
  },
  {
   "cell_type": "code",
   "execution_count": null,
   "metadata": {},
   "outputs": [],
   "source": []
  },
  {
   "cell_type": "code",
   "execution_count": 5,
   "metadata": {},
   "outputs": [],
   "source": [
    "def find_min_room(num_class, classes):\n",
    "    #구현해주세요!\n",
    "    \n",
    "    # 시작시간 기준으로 정렬\n",
    "    cls = sorted(classes, key=lambda start: start[1])  \n",
    "    ncls = np.array(cls).T\n",
    "\n",
    "    start = list(ncls[1])\n",
    "    min_rooms = 0\n",
    "    for end in ncls[2]:\n",
    "        for st in start:\n",
    "            # 이미 점유했다면 리스트에서 삭제함\n",
    "            if st - end > 0: \n",
    "                start.remove(st) \n",
    "                min_rooms += 1\n",
    "  \n",
    "    min_rooms = num_class - min_rooms\n",
    "    return min_rooms\n",
    "\n",
    "def read_inputs():\n",
    "    num_class = int(input())\n",
    "    classes = []\n",
    "    for i in range(num_class):\n",
    "        line = [int(x) for x in input().split()]\n",
    "        class_no = line[0]\n",
    "        start = line[1]\n",
    "        end = line[2]\n",
    "        classes.append((class_no, start, end))\n",
    "\n",
    "    return num_class, classes\n"
   ]
  },
  {
   "cell_type": "code",
   "execution_count": 73,
   "metadata": {},
   "outputs": [
    {
     "name": "stdout",
     "output_type": "stream",
     "text": [
      "5\n"
     ]
    }
   ],
   "source": [
    "\n",
    "classes = [[6, 15, 21 ], \n",
    "[7, 20, 25  ],\n",
    "[1, 3, 8  ],\n",
    "[3, 2, 14]  ,\n",
    "[8, 6, 27]  ,\n",
    "[2, 7, 13]  ,\n",
    "[4, 12, 18 ] ,\n",
    "[5, 6, 20]]\n",
    "num_class= len(classes)\n",
    "\n",
    "ans = find_min_room(num_class, classes)\n",
    "print(ans)"
   ]
  },
  {
   "cell_type": "code",
   "execution_count": null,
   "metadata": {},
   "outputs": [],
   "source": []
  },
  {
   "cell_type": "code",
   "execution_count": 30,
   "metadata": {},
   "outputs": [],
   "source": [
    "classes = [[1,1,3],\n",
    "          [2,2,5],\n",
    "          [3,4,7],\n",
    "          [4,1,8],\n",
    "          [5,5,9],\n",
    "          [6,8,10],\n",
    "          [7,9,11],\n",
    "          [8,11,14],\n",
    "          [9,13,16]]\n",
    "num_class= len(classes)"
   ]
  },
  {
   "cell_type": "code",
   "execution_count": 121,
   "metadata": {},
   "outputs": [
    {
     "data": {
      "text/plain": [
       "array([[ 3,  2, 14],\n",
       "       [ 1,  3,  8],\n",
       "       [ 8,  6, 27],\n",
       "       [ 5,  6, 20],\n",
       "       [ 2,  7, 13],\n",
       "       [ 4, 12, 18],\n",
       "       [ 6, 15, 21],\n",
       "       [ 7, 20, 25]])"
      ]
     },
     "execution_count": 121,
     "metadata": {},
     "output_type": "execute_result"
    }
   ],
   "source": [
    "# 시작시간 기준으로 정렬\n",
    "cls = sorted(classes, key=lambda start: start[1])  \n",
    "ncls = np.array(cls)\n",
    "ncls"
   ]
  },
  {
   "cell_type": "code",
   "execution_count": 75,
   "metadata": {
    "scrolled": true
   },
   "outputs": [
    {
     "data": {
      "text/plain": [
       "3"
      ]
     },
     "execution_count": 75,
     "metadata": {},
     "output_type": "execute_result"
    }
   ],
   "source": [
    "last = 0\n",
    "result=[]\n",
    "for n in ncls:\n",
    "    if last < n[1]:\n",
    "        last = n[2]\n",
    "        result.append(n)\n",
    "len(result)"
   ]
  },
  {
   "cell_type": "code",
   "execution_count": 122,
   "metadata": {},
   "outputs": [
    {
     "data": {
      "text/plain": [
       "array([[ 3,  2, 14],\n",
       "       [ 1,  3,  8],\n",
       "       [ 8,  6, 27],\n",
       "       [ 5,  6, 20],\n",
       "       [ 2,  7, 13],\n",
       "       [ 4, 12, 18],\n",
       "       [ 6, 15, 21],\n",
       "       [ 7, 20, 25]])"
      ]
     },
     "execution_count": 122,
     "metadata": {},
     "output_type": "execute_result"
    }
   ],
   "source": [
    "ncls"
   ]
  },
  {
   "cell_type": "code",
   "execution_count": 149,
   "metadata": {},
   "outputs": [
    {
     "name": "stdout",
     "output_type": "stream",
     "text": [
      "[ 3  2 14]\n",
      "=======\n",
      "[1 3 8]\n",
      "0\n",
      "=======\n",
      "[ 8  6 27]\n",
      "0\n",
      "=======\n",
      "[ 5  6 20]\n",
      "0\n",
      "=======\n",
      "[ 2  7 13]\n",
      "0\n",
      "=======\n",
      "[ 4 12 18]\n",
      "0\n",
      "=======\n",
      "[ 6 15 21]\n",
      "0\n",
      "=======\n",
      "[ 7 20 25]\n",
      "0\n",
      "=======\n"
     ]
    }
   ],
   "source": [
    "rooms = []\n",
    "for n in ncls:\n",
    "    print(n)\n",
    "    \n",
    "    isbreak = False\n",
    "    if len(rooms)==0:\n",
    "        rooms.append([n]) \n",
    "    else:\n",
    "        # 강의실\n",
    "        for i, room in enumerate(rooms):\n",
    "            # 시간표\n",
    "            print(i)\n",
    "            \n",
    "            maxend = -9999\n",
    "            for j, time in enumerate(room): \n",
    "                if maxend < time[2]:\n",
    "                    maxend = time[2]\n",
    "                    \n",
    "            # 기존강의 끝나는 시간이 새로운강의 시작시간보다 작을경우 뒷수업으로 \n",
    "            if maxend < n[1]:\n",
    "                room.append(n)\n",
    "                isbreak = True\n",
    "\n",
    "            else:\n",
    "                rooms.append([n])\n",
    "                isbreak = True\n",
    "\n",
    "            if isbreak:\n",
    "                break\n",
    "     \n",
    "    print('=======')"
   ]
  },
  {
   "cell_type": "code",
   "execution_count": 145,
   "metadata": {},
   "outputs": [
    {
     "data": {
      "text/plain": [
       "[[array([ 3,  2, 14]), array([ 6, 15, 21])],\n",
       " [array([1, 3, 8]), array([ 6, 15, 21])],\n",
       " [array([ 8,  6, 27])],\n",
       " [array([ 5,  6, 20])],\n",
       " [array([ 2,  7, 13])],\n",
       " [array([ 4, 12, 18])],\n",
       " [array([ 6, 15, 21])],\n",
       " [array([ 7, 20, 25])]]"
      ]
     },
     "execution_count": 145,
     "metadata": {},
     "output_type": "execute_result"
    }
   ],
   "source": [
    "rooms"
   ]
  },
  {
   "cell_type": "code",
   "execution_count": 146,
   "metadata": {},
   "outputs": [
    {
     "data": {
      "text/plain": [
       "8"
      ]
     },
     "execution_count": 146,
     "metadata": {},
     "output_type": "execute_result"
    }
   ],
   "source": [
    "len(rooms)"
   ]
  },
  {
   "cell_type": "code",
   "execution_count": null,
   "metadata": {},
   "outputs": [],
   "source": []
  },
  {
   "cell_type": "code",
   "execution_count": null,
   "metadata": {},
   "outputs": [],
   "source": []
  },
  {
   "cell_type": "code",
   "execution_count": null,
   "metadata": {},
   "outputs": [],
   "source": []
  },
  {
   "cell_type": "code",
   "execution_count": 63,
   "metadata": {},
   "outputs": [],
   "source": [
    "start_time = ncls[1]\n",
    "end_time = ncls[2]\n",
    "min_rooms = 0"
   ]
  },
  {
   "cell_type": "code",
   "execution_count": 64,
   "metadata": {},
   "outputs": [
    {
     "data": {
      "text/plain": [
       "(1, 16)"
      ]
     },
     "execution_count": 64,
     "metadata": {},
     "output_type": "execute_result"
    }
   ],
   "source": [
    "min_time = np.min(start_time)\n",
    "max_time = np.max(end_time)\n",
    "min_time, max_time"
   ]
  },
  {
   "cell_type": "code",
   "execution_count": null,
   "metadata": {},
   "outputs": [],
   "source": []
  },
  {
   "cell_type": "code",
   "execution_count": null,
   "metadata": {},
   "outputs": [],
   "source": []
  },
  {
   "cell_type": "code",
   "execution_count": null,
   "metadata": {},
   "outputs": [],
   "source": []
  },
  {
   "cell_type": "code",
   "execution_count": null,
   "metadata": {},
   "outputs": [],
   "source": []
  },
  {
   "cell_type": "code",
   "execution_count": null,
   "metadata": {},
   "outputs": [],
   "source": []
  },
  {
   "cell_type": "code",
   "execution_count": 60,
   "metadata": {},
   "outputs": [],
   "source": [
    "activity = [[1,1,3],\n",
    "            [2,2,5], [3,4,7], [4,1,8], [5,5,9], [6,8,10], [7,9,11], [8,11,14], [9,13,16]]"
   ]
  },
  {
   "cell_type": "code",
   "execution_count": null,
   "metadata": {},
   "outputs": [],
   "source": []
  }
 ],
 "metadata": {
  "kernelspec": {
   "display_name": "Python 3",
   "language": "python",
   "name": "python3"
  },
  "language_info": {
   "codemirror_mode": {
    "name": "ipython",
    "version": 3
   },
   "file_extension": ".py",
   "mimetype": "text/x-python",
   "name": "python",
   "nbconvert_exporter": "python",
   "pygments_lexer": "ipython3",
   "version": "3.6.5"
  }
 },
 "nbformat": 4,
 "nbformat_minor": 2
}
