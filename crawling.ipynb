{
 "cells": [
  {
   "cell_type": "code",
   "execution_count": 377,
   "metadata": {},
   "outputs": [],
   "source": [
    "from selenium import webdriver\n",
    "from time import sleep\n",
    "import threading\n",
    "import re\n",
    "from tqdm import tnrange, tqdm_notebook"
   ]
  },
  {
   "cell_type": "code",
   "execution_count": 50,
   "metadata": {},
   "outputs": [],
   "source": [
    "def get_item(page, driver): \n",
    "    \n",
    "    # regex of item number\n",
    "    regex = re.compile('[0-9]+\\?page')\n",
    "    \n",
    "    driver.get(\"http://getitbeauty.m.tving.com/Product?page={}\".format(page))\n",
    "    sleep(0.5)\n",
    "\n",
    "    lis = driver.find_elements_by_css_selector('.subType5 li dl') \n",
    "\n",
    "    \n",
    "    idx = 0\n",
    "    rows = []\n",
    "    while(True):\n",
    "        try: \n",
    "            li = lis[idx]\n",
    "            \n",
    "            img = li.find_element_by_css_selector('.thumb a img').get_attribute('src')\n",
    "            name = li.find_element_by_css_selector('dt a').text\n",
    "\n",
    "            brand = li.find_element_by_css_selector('dt a strong').text\n",
    "\n",
    "            # split category\n",
    "            cates = li.find_elements_by_css_selector('.gray a')\n",
    "            cate_res = []\n",
    "            for cate in cates:\n",
    "                cate_res.append(cate.text)\n",
    "\n",
    "\n",
    "            link = li.find_element_by_css_selector('.thumb a').get_attribute('href')\n",
    "\n",
    "            # split item number\n",
    "            matchobj = regex.search(link)\n",
    "            item_num = matchobj.group()\n",
    "            item_num = item_num.split('?')[0] \n",
    "             \n",
    "            rows.append([item_num, img, name, brand, cate_res, link])\n",
    "            \n",
    "            idx = idx + 1\n",
    "            if idx == len(lis):\n",
    "                break\n",
    "                \n",
    "        except Exception as e:\n",
    "            del rows[:]\n",
    "            rows = [] \n",
    "            sleep(1) \n",
    "            \n",
    "            lis = driver.find_elements_by_css_selector('.subType5 li dl') \n",
    "            idx = 0 \n",
    "         \n",
    "         \n",
    "    return rows\n",
    "\n",
    "\n",
    "def get_page(start, end):\n",
    "    \n",
    "    driver = webdriver.PhantomJS()\n",
    "    for page in range(start, end):\n",
    "        page_items = get_item(page, driver)\n",
    "        all_items.extend(page_items)\n",
    "        \n",
    "    driver.close() "
   ]
  },
  {
   "cell_type": "code",
   "execution_count": 51,
   "metadata": {},
   "outputs": [
    {
     "name": "stdout",
     "output_type": "stream",
     "text": [
      "No matching processes belonging to you were found\r\n"
     ]
    }
   ],
   "source": [
    "!killall phantomjs"
   ]
  },
  {
   "cell_type": "markdown",
   "metadata": {},
   "source": [
    "431페이지마다 12개 아이템이 있으며 마지막 432페이즈는 8개만 있다."
   ]
  },
  {
   "cell_type": "code",
   "execution_count": 78,
   "metadata": {},
   "outputs": [
    {
     "data": {
      "text/plain": [
       "5180"
      ]
     },
     "execution_count": 78,
     "metadata": {},
     "output_type": "execute_result"
    }
   ],
   "source": [
    "(431 * 12) + 8"
   ]
  },
  {
   "cell_type": "markdown",
   "metadata": {},
   "source": [
    "스레드 6개로 분할하여 72페이지씩 크롤링 작업 수행"
   ]
  },
  {
   "cell_type": "code",
   "execution_count": 49,
   "metadata": {},
   "outputs": [
    {
     "data": {
      "text/plain": [
       "72.0"
      ]
     },
     "execution_count": 49,
     "metadata": {},
     "output_type": "execute_result"
    }
   ],
   "source": [
    "432 / 6"
   ]
  },
  {
   "cell_type": "code",
   "execution_count": 52,
   "metadata": {},
   "outputs": [],
   "source": [
    "all_items = []\n",
    "for cnt in range(1, 7): \n",
    "    start = 72 * (cnt-1)+1\n",
    "    end = 72 * cnt+1 \n",
    "    \n",
    "    th = threading.Thread(target=get_page, args=(start, end))\n",
    "    th.start()"
   ]
  },
  {
   "cell_type": "code",
   "execution_count": 77,
   "metadata": {
    "scrolled": false
   },
   "outputs": [
    {
     "data": {
      "text/plain": [
       "5180"
      ]
     },
     "execution_count": 77,
     "metadata": {},
     "output_type": "execute_result"
    }
   ],
   "source": [
    "len(all_items)"
   ]
  },
  {
   "cell_type": "code",
   "execution_count": 83,
   "metadata": {},
   "outputs": [],
   "source": [
    "item_df = pd.DataFrame(all_items, columns=['id_item','link','name','brand','category','img'])"
   ]
  },
  {
   "cell_type": "code",
   "execution_count": 89,
   "metadata": {},
   "outputs": [],
   "source": [
    "item_df['cate1']= item_df['category'].apply(lambda x: x[0])\n",
    "item_df['cate2']= item_df['category'].apply(lambda x: x[1])"
   ]
  },
  {
   "cell_type": "code",
   "execution_count": 92,
   "metadata": {},
   "outputs": [],
   "source": [
    "item_df = item_df.drop(columns=['category'])"
   ]
  },
  {
   "cell_type": "code",
   "execution_count": 94,
   "metadata": {},
   "outputs": [],
   "source": [
    "item_df.to_csv('data/item.csv', index=False)"
   ]
  },
  {
   "cell_type": "code",
   "execution_count": 307,
   "metadata": {
    "scrolled": true
   },
   "outputs": [
    {
     "data": {
      "text/html": [
       "<div>\n",
       "<style scoped>\n",
       "    .dataframe tbody tr th:only-of-type {\n",
       "        vertical-align: middle;\n",
       "    }\n",
       "\n",
       "    .dataframe tbody tr th {\n",
       "        vertical-align: top;\n",
       "    }\n",
       "\n",
       "    .dataframe thead th {\n",
       "        text-align: right;\n",
       "    }\n",
       "</style>\n",
       "<table border=\"1\" class=\"dataframe\">\n",
       "  <thead>\n",
       "    <tr style=\"text-align: right;\">\n",
       "      <th></th>\n",
       "      <th>id_item</th>\n",
       "      <th>link</th>\n",
       "      <th>name</th>\n",
       "      <th>brand</th>\n",
       "      <th>img</th>\n",
       "      <th>cate1</th>\n",
       "      <th>cate2</th>\n",
       "    </tr>\n",
       "  </thead>\n",
       "  <tbody>\n",
       "    <tr>\n",
       "      <th>0</th>\n",
       "      <td>27111</td>\n",
       "      <td>http://img.lifestyler.co.kr/uploads/channel/pr...</td>\n",
       "      <td>[시세이도] 화이트 루센트 브라이트닝 스팟 컨트롤 파...</td>\n",
       "      <td>[시세이도]</td>\n",
       "      <td>http://getitbeauty.m.tving.com/Product/Product...</td>\n",
       "      <td>MAKEUP</td>\n",
       "      <td>파운데이션</td>\n",
       "    </tr>\n",
       "    <tr>\n",
       "      <th>1</th>\n",
       "      <td>27110</td>\n",
       "      <td>http://img.lifestyler.co.kr/uploads/channel/pr...</td>\n",
       "      <td>[시세이도] 화이트 루센트 브라이트닝 스팟 컨트롤 베...</td>\n",
       "      <td>[시세이도]</td>\n",
       "      <td>http://getitbeauty.m.tving.com/Product/Product...</td>\n",
       "      <td>MAKEUP</td>\n",
       "      <td>메이크업베이스</td>\n",
       "    </tr>\n",
       "    <tr>\n",
       "      <th>2</th>\n",
       "      <td>27109</td>\n",
       "      <td>http://img.lifestyler.co.kr/uploads/channel/pr...</td>\n",
       "      <td>[시세이도] 화이트 루센트 브라이트닝 프로텍티브 크림...</td>\n",
       "      <td>[시세이도]</td>\n",
       "      <td>http://getitbeauty.m.tving.com/Product/Product...</td>\n",
       "      <td>SKINCARE</td>\n",
       "      <td>미백크림</td>\n",
       "    </tr>\n",
       "    <tr>\n",
       "      <th>3</th>\n",
       "      <td>27108</td>\n",
       "      <td>http://img.lifestyler.co.kr/uploads/channel/pr...</td>\n",
       "      <td>[시세이도] 화이트 루센트 인텐시브 스팟 타겟팅 세럼</td>\n",
       "      <td>[시세이도]</td>\n",
       "      <td>http://getitbeauty.m.tving.com/Product/Product...</td>\n",
       "      <td>SKINCARE</td>\n",
       "      <td>화이트닝 에센스</td>\n",
       "    </tr>\n",
       "    <tr>\n",
       "      <th>4</th>\n",
       "      <td>27107</td>\n",
       "      <td>http://img.lifestyler.co.kr/uploads/channel/pr...</td>\n",
       "      <td>[시세이도] 화이트 루센트 인텐시브 브라이트닝 마스크</td>\n",
       "      <td>[시세이도]</td>\n",
       "      <td>http://getitbeauty.m.tving.com/Product/Product...</td>\n",
       "      <td>SKINCARE</td>\n",
       "      <td>마스크팩</td>\n",
       "    </tr>\n",
       "  </tbody>\n",
       "</table>\n",
       "</div>"
      ],
      "text/plain": [
       "  id_item                                               link  \\\n",
       "0   27111  http://img.lifestyler.co.kr/uploads/channel/pr...   \n",
       "1   27110  http://img.lifestyler.co.kr/uploads/channel/pr...   \n",
       "2   27109  http://img.lifestyler.co.kr/uploads/channel/pr...   \n",
       "3   27108  http://img.lifestyler.co.kr/uploads/channel/pr...   \n",
       "4   27107  http://img.lifestyler.co.kr/uploads/channel/pr...   \n",
       "\n",
       "                               name   brand  \\\n",
       "0  [시세이도] 화이트 루센트 브라이트닝 스팟 컨트롤 파...  [시세이도]   \n",
       "1  [시세이도] 화이트 루센트 브라이트닝 스팟 컨트롤 베...  [시세이도]   \n",
       "2  [시세이도] 화이트 루센트 브라이트닝 프로텍티브 크림...  [시세이도]   \n",
       "3     [시세이도] 화이트 루센트 인텐시브 스팟 타겟팅 세럼  [시세이도]   \n",
       "4     [시세이도] 화이트 루센트 인텐시브 브라이트닝 마스크  [시세이도]   \n",
       "\n",
       "                                                 img     cate1     cate2  \n",
       "0  http://getitbeauty.m.tving.com/Product/Product...    MAKEUP     파운데이션  \n",
       "1  http://getitbeauty.m.tving.com/Product/Product...    MAKEUP   메이크업베이스  \n",
       "2  http://getitbeauty.m.tving.com/Product/Product...  SKINCARE      미백크림  \n",
       "3  http://getitbeauty.m.tving.com/Product/Product...  SKINCARE  화이트닝 에센스  \n",
       "4  http://getitbeauty.m.tving.com/Product/Product...  SKINCARE      마스크팩  "
      ]
     },
     "execution_count": 307,
     "metadata": {},
     "output_type": "execute_result"
    }
   ],
   "source": [
    "item_df.head()"
   ]
  },
  {
   "cell_type": "code",
   "execution_count": null,
   "metadata": {},
   "outputs": [],
   "source": []
  },
  {
   "cell_type": "code",
   "execution_count": 399,
   "metadata": {},
   "outputs": [],
   "source": [
    "def get_item_detail(item, driver):\n",
    "    driver.get(\"http://getitbeauty.m.tving.com/Product/ProductView/{}\".format(item))\n",
    "    sleep(0.5)\n",
    " \n",
    "    # 겟잇뷰티 정보 있는지\n",
    "    getbu_info = driver.find_elements_by_css_selector('.getbu_list ul li a')\n",
    "    \n",
    "    rows = []\n",
    "    while(True):\n",
    "        try:  \n",
    "            item_info = driver.find_element_by_css_selector('.prd_info_box') \n",
    "            price = driver.find_element_by_css_selector('.prd_info_box .price').text\n",
    "            getbu_info = driver.find_elements_by_css_selector('.getbu_list ul li a')\n",
    "             \n",
    "            # 제품설명\n",
    "            t = item_info.text.split('\\n')\n",
    "            t = t[len(t)-1].strip()\n",
    "  \n",
    "            # 겟잇뷰티 정보 있는지 확인\n",
    "            link = ''\n",
    "            g_info = ''\n",
    "            if len(getbu_info) > 0:\n",
    "                getbu_info = getbu_info[0]\n",
    "                link = getbu_info.get_attribute('href')\n",
    "                g_info = getbu_info.text\n",
    "                \n",
    "            rows.append([item, price, t, link, g_info])\n",
    "            \n",
    "            break\n",
    "        except Exception as e:\n",
    "            #print(e)\n",
    "            print(item, t, w, p)\n",
    "            del rows[:]\n",
    "            rows = [] \n",
    "            sleep(1)  \n",
    "            item_info = driver.find_element_by_css_selector('.prd_info_box') \n",
    "            price = driver.find_element_by_css_selector('.prd_info_box .price').text\n",
    "            getbu_info = driver.find_elements_by_css_selector('.getbu_list ul li a')\n",
    "    return rows\n",
    "\n",
    "def get_item_detail_group(items): \n",
    "    driver =  webdriver.PhantomJS()\n",
    "    for item in items: \n",
    "        item_detail = get_item_detail(item, driver)\n",
    "        all_items_detail.extend(item_detail)\n",
    "    driver.close() "
   ]
  },
  {
   "cell_type": "code",
   "execution_count": null,
   "metadata": {},
   "outputs": [],
   "source": []
  },
  {
   "cell_type": "code",
   "execution_count": 299,
   "metadata": {},
   "outputs": [],
   "source": [
    "driver =  webdriver.PhantomJS()"
   ]
  },
  {
   "cell_type": "code",
   "execution_count": 309,
   "metadata": {
    "scrolled": true
   },
   "outputs": [
    {
     "data": {
      "text/plain": [
       "[[30551, '9g', '12,000', '컬러의 선명한 발색, 광택 및 지속력을 높여주는 모디 탑 젤', '', '']]"
      ]
     },
     "execution_count": 309,
     "metadata": {},
     "output_type": "execute_result"
    }
   ],
   "source": [
    "get_item_detail(30551, driver)"
   ]
  },
  {
   "cell_type": "code",
   "execution_count": null,
   "metadata": {},
   "outputs": [],
   "source": []
  },
  {
   "cell_type": "code",
   "execution_count": 376,
   "metadata": {},
   "outputs": [],
   "source": []
  },
  {
   "cell_type": "code",
   "execution_count": 391,
   "metadata": {
    "scrolled": true
   },
   "outputs": [
    {
     "data": {
      "application/vnd.jupyter.widget-view+json": {
       "model_id": "0addea0b66c149f4b75f864721789b26",
       "version_major": 2,
       "version_minor": 0
      },
      "text/plain": [
       "HBox(children=(IntProgress(value=0, max=5180), HTML(value='')))"
      ]
     },
     "metadata": {},
     "output_type": "display_data"
    },
    {
     "name": "stdout",
     "output_type": "stream",
     "text": [
      "\n"
     ]
    },
    {
     "ename": "KeyboardInterrupt",
     "evalue": "",
     "output_type": "error",
     "traceback": [
      "\u001b[0;31m---------------------------------------------------------------------------\u001b[0m",
      "\u001b[0;31mKeyboardInterrupt\u001b[0m                         Traceback (most recent call last)",
      "\u001b[0;32m<ipython-input-391-bd178cb78ea7>\u001b[0m in \u001b[0;36m<module>\u001b[0;34m()\u001b[0m\n\u001b[1;32m      1\u001b[0m \u001b[0mall_items_detail\u001b[0m\u001b[0;34m=\u001b[0m \u001b[0;34m[\u001b[0m\u001b[0;34m]\u001b[0m\u001b[0;34m\u001b[0m\u001b[0m\n\u001b[0;32m----> 2\u001b[0;31m \u001b[0mget_item_detail_group\u001b[0m\u001b[0;34m(\u001b[0m\u001b[0mitem_df\u001b[0m\u001b[0;34m[\u001b[0m\u001b[0;34m'id_item'\u001b[0m\u001b[0;34m]\u001b[0m\u001b[0;34m.\u001b[0m\u001b[0mvalues\u001b[0m\u001b[0;34m)\u001b[0m\u001b[0;34m\u001b[0m\u001b[0m\n\u001b[0m",
      "\u001b[0;32m<ipython-input-389-f153dba1fb09>\u001b[0m in \u001b[0;36mget_item_detail_group\u001b[0;34m(items)\u001b[0m\n\u001b[1;32m     44\u001b[0m     \u001b[0mdriver\u001b[0m \u001b[0;34m=\u001b[0m  \u001b[0mwebdriver\u001b[0m\u001b[0;34m.\u001b[0m\u001b[0mPhantomJS\u001b[0m\u001b[0;34m(\u001b[0m\u001b[0;34m)\u001b[0m\u001b[0;34m\u001b[0m\u001b[0m\n\u001b[1;32m     45\u001b[0m     \u001b[0;32mfor\u001b[0m \u001b[0mitem\u001b[0m \u001b[0;32min\u001b[0m \u001b[0mtqdm_notebook\u001b[0m\u001b[0;34m(\u001b[0m\u001b[0mitems\u001b[0m\u001b[0;34m)\u001b[0m\u001b[0;34m:\u001b[0m\u001b[0;34m\u001b[0m\u001b[0m\n\u001b[0;32m---> 46\u001b[0;31m         \u001b[0mitem_detail\u001b[0m \u001b[0;34m=\u001b[0m \u001b[0mget_item_detail\u001b[0m\u001b[0;34m(\u001b[0m\u001b[0mitem\u001b[0m\u001b[0;34m,\u001b[0m \u001b[0mdriver\u001b[0m\u001b[0;34m)\u001b[0m\u001b[0;34m\u001b[0m\u001b[0m\n\u001b[0m\u001b[1;32m     47\u001b[0m         \u001b[0mall_items_detail\u001b[0m\u001b[0;34m.\u001b[0m\u001b[0mextend\u001b[0m\u001b[0;34m(\u001b[0m\u001b[0mitem_detail\u001b[0m\u001b[0;34m)\u001b[0m\u001b[0;34m\u001b[0m\u001b[0m\n\u001b[1;32m     48\u001b[0m     \u001b[0mdriver\u001b[0m\u001b[0;34m.\u001b[0m\u001b[0mclose\u001b[0m\u001b[0;34m(\u001b[0m\u001b[0;34m)\u001b[0m\u001b[0;34m\u001b[0m\u001b[0m\n",
      "\u001b[0;32m<ipython-input-389-f153dba1fb09>\u001b[0m in \u001b[0;36mget_item_detail\u001b[0;34m(item, driver)\u001b[0m\n\u001b[1;32m      1\u001b[0m \u001b[0;32mdef\u001b[0m \u001b[0mget_item_detail\u001b[0m\u001b[0;34m(\u001b[0m\u001b[0mitem\u001b[0m\u001b[0;34m,\u001b[0m \u001b[0mdriver\u001b[0m\u001b[0;34m)\u001b[0m\u001b[0;34m:\u001b[0m\u001b[0;34m\u001b[0m\u001b[0m\n\u001b[1;32m      2\u001b[0m     \u001b[0mdriver\u001b[0m\u001b[0;34m.\u001b[0m\u001b[0mget\u001b[0m\u001b[0;34m(\u001b[0m\u001b[0;34m\"http://getitbeauty.m.tving.com/Product/ProductView/{}\"\u001b[0m\u001b[0;34m.\u001b[0m\u001b[0mformat\u001b[0m\u001b[0;34m(\u001b[0m\u001b[0mitem\u001b[0m\u001b[0;34m)\u001b[0m\u001b[0;34m)\u001b[0m\u001b[0;34m\u001b[0m\u001b[0m\n\u001b[0;32m----> 3\u001b[0;31m     \u001b[0msleep\u001b[0m\u001b[0;34m(\u001b[0m\u001b[0;36m1\u001b[0m\u001b[0;34m)\u001b[0m\u001b[0;34m\u001b[0m\u001b[0m\n\u001b[0m\u001b[1;32m      4\u001b[0m \u001b[0;34m\u001b[0m\u001b[0m\n\u001b[1;32m      5\u001b[0m     \u001b[0;31m# 겟잇뷰티 정보 있는지\u001b[0m\u001b[0;34m\u001b[0m\u001b[0;34m\u001b[0m\u001b[0m\n",
      "\u001b[0;31mKeyboardInterrupt\u001b[0m: "
     ]
    }
   ],
   "source": [
    "all_items_detail= []\n",
    "get_item_detail_group(item_df['id_item'].values)"
   ]
  },
  {
   "cell_type": "code",
   "execution_count": null,
   "metadata": {},
   "outputs": [],
   "source": []
  },
  {
   "cell_type": "code",
   "execution_count": 548,
   "metadata": {
    "scrolled": false
   },
   "outputs": [
    {
     "name": "stdout",
     "output_type": "stream",
     "text": [
      "No matching processes belonging to you were found\r\n"
     ]
    }
   ],
   "source": [
    "!killall phantomjs"
   ]
  },
  {
   "cell_type": "code",
   "execution_count": 549,
   "metadata": {},
   "outputs": [
    {
     "name": "stderr",
     "output_type": "stream",
     "text": [
      "Exception in thread Thread-95:\n",
      "Traceback (most recent call last):\n",
      "  File \"/usr/local/Cellar/python/3.6.5/Frameworks/Python.framework/Versions/3.6/lib/python3.6/threading.py\", line 916, in _bootstrap_inner\n",
      "    self.run()\n",
      "  File \"/usr/local/Cellar/python/3.6.5/Frameworks/Python.framework/Versions/3.6/lib/python3.6/threading.py\", line 864, in run\n",
      "    self._target(*self._args, **self._kwargs)\n",
      "  File \"<ipython-input-399-84bf341adc7d>\", line 42, in get_item_detail_group\n",
      "    driver =  webdriver.PhantomJS()\n",
      "  File \"/usr/local/lib/python3.6/site-packages/selenium/webdriver/phantomjs/webdriver.py\", line 51, in __init__\n",
      "    self.service.start()\n",
      "  File \"/usr/local/lib/python3.6/site-packages/selenium/webdriver/common/service.py\", line 88, in start\n",
      "    raise WebDriverException(\"Can not connect to the Service %s\" % self.path)\n",
      "selenium.common.exceptions.WebDriverException: Message: Can not connect to the Service phantomjs\n",
      "\n",
      "Exception in thread Thread-91:\n",
      "Traceback (most recent call last):\n",
      "  File \"/usr/local/Cellar/python/3.6.5/Frameworks/Python.framework/Versions/3.6/lib/python3.6/threading.py\", line 916, in _bootstrap_inner\n",
      "    self.run()\n",
      "  File \"/usr/local/Cellar/python/3.6.5/Frameworks/Python.framework/Versions/3.6/lib/python3.6/threading.py\", line 864, in run\n",
      "    self._target(*self._args, **self._kwargs)\n",
      "  File \"<ipython-input-399-84bf341adc7d>\", line 42, in get_item_detail_group\n",
      "    driver =  webdriver.PhantomJS()\n",
      "  File \"/usr/local/lib/python3.6/site-packages/selenium/webdriver/phantomjs/webdriver.py\", line 51, in __init__\n",
      "    self.service.start()\n",
      "  File \"/usr/local/lib/python3.6/site-packages/selenium/webdriver/common/service.py\", line 88, in start\n",
      "    raise WebDriverException(\"Can not connect to the Service %s\" % self.path)\n",
      "selenium.common.exceptions.WebDriverException: Message: Can not connect to the Service phantomjs\n",
      "\n",
      "\n",
      "\n",
      "Exception in thread Thread-99:\n",
      "Traceback (most recent call last):\n",
      "  File \"/usr/local/Cellar/python/3.6.5/Frameworks/Python.framework/Versions/3.6/lib/python3.6/threading.py\", line 916, in _bootstrap_inner\n",
      "    self.run()\n",
      "  File \"/usr/local/Cellar/python/3.6.5/Frameworks/Python.framework/Versions/3.6/lib/python3.6/threading.py\", line 864, in run\n",
      "    self._target(*self._args, **self._kwargs)\n",
      "  File \"<ipython-input-399-84bf341adc7d>\", line 42, in get_item_detail_group\n",
      "    driver =  webdriver.PhantomJS()\n",
      "  File \"/usr/local/lib/python3.6/site-packages/selenium/webdriver/phantomjs/webdriver.py\", line 51, in __init__\n",
      "    self.service.start()\n",
      "  File \"/usr/local/lib/python3.6/site-packages/selenium/webdriver/common/service.py\", line 88, in start\n",
      "    raise WebDriverException(\"Can not connect to the Service %s\" % self.path)\n",
      "selenium.common.exceptions.WebDriverException: Message: Can not connect to the Service phantomjs\n",
      "\n",
      "\n",
      "Exception in thread Thread-100:\n",
      "Traceback (most recent call last):\n",
      "  File \"/usr/local/Cellar/python/3.6.5/Frameworks/Python.framework/Versions/3.6/lib/python3.6/threading.py\", line 916, in _bootstrap_inner\n",
      "    self.run()\n",
      "  File \"/usr/local/Cellar/python/3.6.5/Frameworks/Python.framework/Versions/3.6/lib/python3.6/threading.py\", line 864, in run\n",
      "    self._target(*self._args, **self._kwargs)\n",
      "  File \"<ipython-input-399-84bf341adc7d>\", line 42, in get_item_detail_group\n",
      "    driver =  webdriver.PhantomJS()\n",
      "  File \"/usr/local/lib/python3.6/site-packages/selenium/webdriver/phantomjs/webdriver.py\", line 51, in __init__\n",
      "    self.service.start()\n",
      "  File \"/usr/local/lib/python3.6/site-packages/selenium/webdriver/common/service.py\", line 88, in start\n",
      "    raise WebDriverException(\"Can not connect to the Service %s\" % self.path)\n",
      "selenium.common.exceptions.WebDriverException: Message: Can not connect to the Service phantomjs\n",
      "\n",
      "\n",
      "Exception in thread Thread-97:\n",
      "Traceback (most recent call last):\n",
      "  File \"/usr/local/Cellar/python/3.6.5/Frameworks/Python.framework/Versions/3.6/lib/python3.6/threading.py\", line 916, in _bootstrap_inner\n",
      "    self.run()\n",
      "  File \"/usr/local/Cellar/python/3.6.5/Frameworks/Python.framework/Versions/3.6/lib/python3.6/threading.py\", line 864, in run\n",
      "    self._target(*self._args, **self._kwargs)\n",
      "  File \"<ipython-input-399-84bf341adc7d>\", line 42, in get_item_detail_group\n",
      "    driver =  webdriver.PhantomJS()\n",
      "  File \"/usr/local/lib/python3.6/site-packages/selenium/webdriver/phantomjs/webdriver.py\", line 51, in __init__\n",
      "    self.service.start()\n",
      "  File \"/usr/local/lib/python3.6/site-packages/selenium/webdriver/common/service.py\", line 88, in start\n",
      "    raise WebDriverException(\"Can not connect to the Service %s\" % self.path)\n",
      "selenium.common.exceptions.WebDriverException: Message: Can not connect to the Service phantomjs\n",
      "\n",
      "\n",
      "Exception in thread Thread-96:\n",
      "Traceback (most recent call last):\n",
      "  File \"/usr/local/Cellar/python/3.6.5/Frameworks/Python.framework/Versions/3.6/lib/python3.6/threading.py\", line 916, in _bootstrap_inner\n",
      "    self.run()\n",
      "  File \"/usr/local/Cellar/python/3.6.5/Frameworks/Python.framework/Versions/3.6/lib/python3.6/threading.py\", line 864, in run\n",
      "    self._target(*self._args, **self._kwargs)\n",
      "  File \"<ipython-input-399-84bf341adc7d>\", line 42, in get_item_detail_group\n",
      "    driver =  webdriver.PhantomJS()\n",
      "  File \"/usr/local/lib/python3.6/site-packages/selenium/webdriver/phantomjs/webdriver.py\", line 51, in __init__\n",
      "    self.service.start()\n",
      "  File \"/usr/local/lib/python3.6/site-packages/selenium/webdriver/common/service.py\", line 88, in start\n",
      "    raise WebDriverException(\"Can not connect to the Service %s\" % self.path)\n",
      "selenium.common.exceptions.WebDriverException: Message: Can not connect to the Service phantomjs\n",
      "\n",
      "\n",
      "Exception in thread Thread-92:\n",
      "Traceback (most recent call last):\n",
      "  File \"/usr/local/Cellar/python/3.6.5/Frameworks/Python.framework/Versions/3.6/lib/python3.6/threading.py\", line 916, in _bootstrap_inner\n",
      "    self.run()\n",
      "  File \"/usr/local/Cellar/python/3.6.5/Frameworks/Python.framework/Versions/3.6/lib/python3.6/threading.py\", line 864, in run\n",
      "    self._target(*self._args, **self._kwargs)\n",
      "  File \"<ipython-input-399-84bf341adc7d>\", line 42, in get_item_detail_group\n",
      "    driver =  webdriver.PhantomJS()\n",
      "  File \"/usr/local/lib/python3.6/site-packages/selenium/webdriver/phantomjs/webdriver.py\", line 51, in __init__\n",
      "    self.service.start()\n",
      "  File \"/usr/local/lib/python3.6/site-packages/selenium/webdriver/common/service.py\", line 88, in start\n",
      "    raise WebDriverException(\"Can not connect to the Service %s\" % self.path)\n",
      "selenium.common.exceptions.WebDriverException: Message: Can not connect to the Service phantomjs\n",
      "\n",
      "Exception in thread Thread-93:\n",
      "Traceback (most recent call last):\n",
      "  File \"/usr/local/Cellar/python/3.6.5/Frameworks/Python.framework/Versions/3.6/lib/python3.6/threading.py\", line 916, in _bootstrap_inner\n",
      "    self.run()\n",
      "  File \"/usr/local/Cellar/python/3.6.5/Frameworks/Python.framework/Versions/3.6/lib/python3.6/threading.py\", line 864, in run\n",
      "    self._target(*self._args, **self._kwargs)\n",
      "  File \"<ipython-input-399-84bf341adc7d>\", line 42, in get_item_detail_group\n",
      "    driver =  webdriver.PhantomJS()\n",
      "  File \"/usr/local/lib/python3.6/site-packages/selenium/webdriver/phantomjs/webdriver.py\", line 51, in __init__\n",
      "    self.service.start()\n",
      "  File \"/usr/local/lib/python3.6/site-packages/selenium/webdriver/common/service.py\", line 88, in start\n",
      "    raise WebDriverException(\"Can not connect to the Service %s\" % self.path)\n",
      "selenium.common.exceptions.WebDriverException: Message: Can not connect to the Service phantomjs\n",
      "\n",
      "\n",
      "Exception in thread Thread-98:\n",
      "Traceback (most recent call last):\n",
      "  File \"/usr/local/Cellar/python/3.6.5/Frameworks/Python.framework/Versions/3.6/lib/python3.6/threading.py\", line 916, in _bootstrap_inner\n",
      "    self.run()\n",
      "  File \"/usr/local/Cellar/python/3.6.5/Frameworks/Python.framework/Versions/3.6/lib/python3.6/threading.py\", line 864, in run\n",
      "    self._target(*self._args, **self._kwargs)\n",
      "  File \"<ipython-input-399-84bf341adc7d>\", line 42, in get_item_detail_group\n",
      "    driver =  webdriver.PhantomJS()\n",
      "  File \"/usr/local/lib/python3.6/site-packages/selenium/webdriver/phantomjs/webdriver.py\", line 51, in __init__\n",
      "    self.service.start()\n",
      "  File \"/usr/local/lib/python3.6/site-packages/selenium/webdriver/common/service.py\", line 88, in start\n",
      "    raise WebDriverException(\"Can not connect to the Service %s\" % self.path)\n",
      "selenium.common.exceptions.WebDriverException: Message: Can not connect to the Service phantomjs\n",
      "\n",
      "\n",
      "Exception in thread Thread-94:\n",
      "Traceback (most recent call last):\n",
      "  File \"/usr/local/Cellar/python/3.6.5/Frameworks/Python.framework/Versions/3.6/lib/python3.6/threading.py\", line 916, in _bootstrap_inner\n",
      "    self.run()\n",
      "  File \"/usr/local/Cellar/python/3.6.5/Frameworks/Python.framework/Versions/3.6/lib/python3.6/threading.py\", line 864, in run\n",
      "    self._target(*self._args, **self._kwargs)\n",
      "  File \"<ipython-input-399-84bf341adc7d>\", line 42, in get_item_detail_group\n",
      "    driver =  webdriver.PhantomJS()\n",
      "  File \"/usr/local/lib/python3.6/site-packages/selenium/webdriver/phantomjs/webdriver.py\", line 51, in __init__\n",
      "    self.service.start()\n",
      "  File \"/usr/local/lib/python3.6/site-packages/selenium/webdriver/common/service.py\", line 88, in start\n",
      "    raise WebDriverException(\"Can not connect to the Service %s\" % self.path)\n",
      "selenium.common.exceptions.WebDriverException: Message: Can not connect to the Service phantomjs\n",
      "\n",
      "\n",
      "\n"
     ]
    }
   ],
   "source": [
    "all_items_detail= []\n",
    "for cnt in range(1, 11): \n",
    "    start = 518 * (cnt-1)\n",
    "    end = 518 * cnt-1\n",
    "    items = item_df.loc[start:end]['id_item'].values\n",
    "    th = threading.Thread(target=get_item_detail_group, args=(items,))\n",
    "    th.start()"
   ]
  },
  {
   "cell_type": "code",
   "execution_count": null,
   "metadata": {},
   "outputs": [],
   "source": []
  },
  {
   "cell_type": "code",
   "execution_count": 578,
   "metadata": {
    "scrolled": false
   },
   "outputs": [
    {
     "data": {
      "text/plain": [
       "5180"
      ]
     },
     "execution_count": 578,
     "metadata": {},
     "output_type": "execute_result"
    }
   ],
   "source": [
    "len(all_items_detail)"
   ]
  },
  {
   "cell_type": "code",
   "execution_count": 579,
   "metadata": {},
   "outputs": [],
   "source": [
    "detail_df = pd.DataFrame(all_items_detail,columns=['id_item','price','info','gb_link','gb_info'])"
   ]
  },
  {
   "cell_type": "code",
   "execution_count": 581,
   "metadata": {},
   "outputs": [
    {
     "name": "stdout",
     "output_type": "stream",
     "text": [
      "item.csv\r\n"
     ]
    }
   ],
   "source": [
    "!ls data"
   ]
  },
  {
   "cell_type": "code",
   "execution_count": 582,
   "metadata": {},
   "outputs": [],
   "source": [
    "detail_df.to_csv('data/item_detail.csv',index=False)"
   ]
  },
  {
   "cell_type": "code",
   "execution_count": null,
   "metadata": {},
   "outputs": [],
   "source": []
  }
 ],
 "metadata": {
  "kernelspec": {
   "display_name": "Python 3",
   "language": "python",
   "name": "python3"
  },
  "language_info": {
   "codemirror_mode": {
    "name": "ipython",
    "version": 3
   },
   "file_extension": ".py",
   "mimetype": "text/x-python",
   "name": "python",
   "nbconvert_exporter": "python",
   "pygments_lexer": "ipython3",
   "version": "3.6.5"
  }
 },
 "nbformat": 4,
 "nbformat_minor": 2
}
