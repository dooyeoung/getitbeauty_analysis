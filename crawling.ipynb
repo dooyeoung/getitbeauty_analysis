{
 "cells": [
  {
   "cell_type": "code",
   "execution_count": 30,
   "metadata": {},
   "outputs": [],
   "source": [
    "from selenium import webdriver\n",
    "from time import sleep\n",
    "import threading\n",
    "import re"
   ]
  },
  {
   "cell_type": "code",
   "execution_count": 50,
   "metadata": {},
   "outputs": [],
   "source": [
    "def get_item(page, driver): \n",
    "    \n",
    "    # regex of item number\n",
    "    regex = re.compile('[0-9]+\\?page')\n",
    "    \n",
    "    driver.get(\"http://getitbeauty.m.tving.com/Product?page={}\".format(page))\n",
    "    sleep(0.5)\n",
    "\n",
    "    lis = driver.find_elements_by_css_selector('.subType5 li dl') \n",
    "\n",
    "    \n",
    "    idx = 0\n",
    "    rows = []\n",
    "    while(True):\n",
    "        try: \n",
    "            li = lis[idx]\n",
    "            \n",
    "            img = li.find_element_by_css_selector('.thumb a img').get_attribute('src')\n",
    "            name = li.find_element_by_css_selector('dt a').text\n",
    "\n",
    "            brand = li.find_element_by_css_selector('dt a strong').text\n",
    "\n",
    "            # split category\n",
    "            cates = li.find_elements_by_css_selector('.gray a')\n",
    "            cate_res = []\n",
    "            for cate in cates:\n",
    "                cate_res.append(cate.text)\n",
    "\n",
    "\n",
    "            link = li.find_element_by_css_selector('.thumb a').get_attribute('href')\n",
    "\n",
    "            # split item number\n",
    "            matchobj = regex.search(link)\n",
    "            item_num = matchobj.group()\n",
    "            item_num = item_num.split('?')[0] \n",
    "             \n",
    "            rows.append([item_num, img, name, brand, cate_res, link])\n",
    "            \n",
    "            idx = idx + 1\n",
    "            if idx == len(lis):\n",
    "                break\n",
    "                \n",
    "        except Exception as e:\n",
    "            del rows[:]\n",
    "            rows = [] \n",
    "            sleep(1) \n",
    "            \n",
    "            lis = driver.find_elements_by_css_selector('.subType5 li dl') \n",
    "            idx = 0 \n",
    "         \n",
    "         \n",
    "    return rows\n",
    "\n",
    "\n",
    "def get_page(start, end):\n",
    "    \n",
    "    driver =  webdriver.PhantomJS()\n",
    "    for page in range(start, end):\n",
    "        page_items = get_item(page, driver)\n",
    "        all_items.extend(page_items)\n",
    "        \n",
    "    driver.close() "
   ]
  },
  {
   "cell_type": "code",
   "execution_count": 51,
   "metadata": {},
   "outputs": [
    {
     "name": "stdout",
     "output_type": "stream",
     "text": [
      "No matching processes belonging to you were found\r\n"
     ]
    }
   ],
   "source": [
    "!killall phantomjs"
   ]
  },
  {
   "cell_type": "markdown",
   "metadata": {},
   "source": [
    "431페이지마다 12개 아이템이 있으며 마지막 432페이즈는 8개만 있다."
   ]
  },
  {
   "cell_type": "code",
   "execution_count": 78,
   "metadata": {},
   "outputs": [
    {
     "data": {
      "text/plain": [
       "5180"
      ]
     },
     "execution_count": 78,
     "metadata": {},
     "output_type": "execute_result"
    }
   ],
   "source": [
    "(431 * 12) + 8"
   ]
  },
  {
   "cell_type": "markdown",
   "metadata": {},
   "source": [
    "스레드 6개로 분할하여 72페이지씩 크롤링 작업 수행"
   ]
  },
  {
   "cell_type": "code",
   "execution_count": 49,
   "metadata": {},
   "outputs": [
    {
     "data": {
      "text/plain": [
       "72.0"
      ]
     },
     "execution_count": 49,
     "metadata": {},
     "output_type": "execute_result"
    }
   ],
   "source": [
    "432 / 6"
   ]
  },
  {
   "cell_type": "code",
   "execution_count": 52,
   "metadata": {},
   "outputs": [],
   "source": [
    "all_items = []\n",
    "for cnt in range(1, 7): \n",
    "    start = 72 * (cnt-1)+1\n",
    "    end = 72 * cnt+1 \n",
    "    \n",
    "    th = threading.Thread(target=get_page, args=(start, end))\n",
    "    th.start()"
   ]
  },
  {
   "cell_type": "code",
   "execution_count": 77,
   "metadata": {
    "scrolled": false
   },
   "outputs": [
    {
     "data": {
      "text/plain": [
       "5180"
      ]
     },
     "execution_count": 77,
     "metadata": {},
     "output_type": "execute_result"
    }
   ],
   "source": [
    "len(all_items)"
   ]
  },
  {
   "cell_type": "code",
   "execution_count": 83,
   "metadata": {},
   "outputs": [],
   "source": [
    "item_df = pd.DataFrame(all_items, columns=['id_item','link','name','brand','category','img'])"
   ]
  },
  {
   "cell_type": "code",
   "execution_count": 89,
   "metadata": {},
   "outputs": [],
   "source": [
    "item_df['cate1']= item_df['category'].apply(lambda x: x[0])\n",
    "item_df['cate2']= item_df['category'].apply(lambda x: x[1])"
   ]
  },
  {
   "cell_type": "code",
   "execution_count": 92,
   "metadata": {},
   "outputs": [],
   "source": [
    "item_df = item_df.drop(columns=['category'])"
   ]
  },
  {
   "cell_type": "code",
   "execution_count": 94,
   "metadata": {},
   "outputs": [],
   "source": [
    "item_df.to_csv('data/item.csv', index=False)"
   ]
  },
  {
   "cell_type": "code",
   "execution_count": null,
   "metadata": {},
   "outputs": [],
   "source": []
  },
  {
   "cell_type": "code",
   "execution_count": null,
   "metadata": {},
   "outputs": [],
   "source": []
  },
  {
   "cell_type": "code",
   "execution_count": null,
   "metadata": {},
   "outputs": [],
   "source": []
  }
 ],
 "metadata": {
  "kernelspec": {
   "display_name": "Python 3",
   "language": "python",
   "name": "python3"
  },
  "language_info": {
   "codemirror_mode": {
    "name": "ipython",
    "version": 3
   },
   "file_extension": ".py",
   "mimetype": "text/x-python",
   "name": "python",
   "nbconvert_exporter": "python",
   "pygments_lexer": "ipython3",
   "version": "3.6.5"
  }
 },
 "nbformat": 4,
 "nbformat_minor": 2
}
